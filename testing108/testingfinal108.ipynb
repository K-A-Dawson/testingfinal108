{
 "cells": [
  {
   "cell_type": "markdown",
   "metadata": {},
   "source": [
    "# COGS 108 - NFL Stadium Impacts On Their Surrounding Economy\n",
    "\n",
    "# Permissions\n",
    "\n",
    "Place an `X` in the appropriate bracket below to specify if you would like your group's project to be made available to the public. (Note that student names will be included (but PIDs will be scraped from any groups who include their PIDs).\n",
    "\n",
    "* [ X ] YES - make available\n",
    "* [  ] NO - keep private\n",
    "\n",
    "# Names\n",
    "\n",
    "- Kyla Dawson\n",
    "- Gabriel Dominguez\n",
    "- Elijah Guerrero\n",
    "- Kayla Megerdichian\n",
    "- Andrew Megerdoomian\n",
    "\n",
    "# Abstract\n",
    "\n",
    "This project aims to explore the effect that a new stadium has on a city's economy. We wanted to examine whether an investment into a profitable public space would overall benefit the city and the people who live there. To do so, we used figures from public government reports and online resources to measure variables such as the revenue and expenses of a city, average stadium revenues and expenses, city population and growth rate, and housing market information. We could then use these figures to interpret value held by a city: whether through property value, population, or overall profit made by the city. Was there a visible increase in commerce after a stadium opened? Could this be attributed to tourism and more people visiting for games and concerts?\n",
    "\n",
    "We created several datasets to help visualize several factors. We eventually wanted to be able to compare cities, and see connections between variables such as city growth rate and the median cost of a house. We found that **[summarize final findings here]**\n",
    "*Please write one to four paragraphs that describe a very brief overview of why you did this, how you did, and the major findings and conclusions.*"
   ]
  },
  {
   "cell_type": "markdown",
   "metadata": {},
   "source": [
    "# Research Question"
   ]
  },
  {
   "cell_type": "markdown",
   "metadata": {},
   "source": [
    "Have NFL stadiums built since 2014 to present day significantly impacted their respective cities debt, spending, and income in the year following their construction compared to the year before?"
   ]
  },
  {
   "cell_type": "markdown",
   "metadata": {},
   "source": [
    "## Background and Prior Work"
   ]
  },
  {
   "cell_type": "markdown",
   "metadata": {},
   "source": [
    "\n",
    "As the world has progressed and evolved over the past couple centuries, sports has synonymously grown alongside it. Starting out as mere games that children can play with each other on the schoolyard, they have grown to become some of the most important parts of the culture that exists within countries. To all of us working on this project, they are a passionate source of fun and camaraderie between each other. They have become ingrained within the lives of many people, and as a result, the highest levels of these sports have also become highly important to the economic status of the local community. In particular, the existence of a top-level professional sports team in an area has the potential (and has consistently promised) to benefit the surrounding area economically, through the use of job creation, revenue generation, and overall income. But have they?\n",
    "\n",
    "Previous work has shown differing results depending on where you look. According to Matthews.com, NFL stadiums have only been beneficial to their surrounding communities, stating that there has been a “5% increase in local employment, a 20% rise in infrastructure spending, and a 10% growth in retail sales,” whilst also stating that there is a 15% increase in business formation within the first five years of a stadium’s creation. <a name=\"cite_ref-5\"></a>[<sup>5</sup>](#cite_note-5) According to Brookings.edu, however, their data shows that this “economic growth” that happens within the area is not growth at all, when looking at the resources that went into the construction of the stadium in the first place. They used Baltimore as an example, where MLB stadium Oriole Park costed the city 200 million dollars to build, claiming “the net gain to Baltimore’s economy in terms of new jobs and incremental tax revenues is only about 3 million dollars a year”. This report, despite being produced in 1997, undoubtedly could hold true today. <a name=\"cite_ref-6\"></a>[<sup>6</sup>](#cite_note-6) \n",
    "\n",
    "We can even directly look at the Las Vegas Raiders’ 2023 Impact Report, which is intended to show insight into how they have impacted the local community. They have reportedly injected billions of dollars into the city, while also doing charitable work and hosting football events for the local youth <a name=\"cite_ref-1\"></a>[<sup>1</sup>](#cite_note-1). However, according to the Nevada Current’s Hugh Jackson, this money being made is “clearly failing to reach people who work in service jobs that are the largest employment sectors throughout the valleys”.<a name=\"cite_ref-2\"></a>[<sup>2</sup>](#cite_note-2) So which is it? To determine whether or not the construction of newer NFL stadiums, we will use the data provided by the teams themselves,<a name=\"cite_ref-3\"></a>[<sup>3</sup>](#cite_note-3) as well as the economical data available to us of the surrounding areas,<a name=\"cite_ref-4\"></a>[<sup>4</sup>](#cite_note-4) in the hopes that we can find a consistent and accurate correlation between the existence of an NFL stadium and local growth or reduction.\n",
    "\n",
    "1. <a name=\"cite_note-1\"></a> [^](#cite_ref-1) Wright, J (20 Dec 2023) Raiders: Economic impact of Allegiant Stadium is over $2.29 billion. *KTNV Las Vegas*. https://www.ktnv.com/sports/raiders/raiders-economic-impact-of-allegiant-stadium-is-over-2-29-billion \n",
    "2. <a name=\"cite_note-3\"></a> [^](#cite_ref-3) Jackson, H (14 April 2022) For Nevada’s workforce, the game’s still the same. *Nevada Current*. https://nevadacurrent.com/2022/04/14/for-nevadas-workforce-the-games-still-the-same/ \n",
    "3. <a name=\"cite_note-2\"></a> [^](#cite_ref-2) *Ballparks of Baseball*. https://www.ballparksofbaseball.com/comparisons/current-ballparks/ \n",
    "4. <a name=\"cite_note-4\"></a> [^](#cite_ref-4) Snel, A (17 May 2024) Congrats, Las Vegas/Clark County… *LV Sports Biz*. https://lvsportsbiz.com/2024/05/17/congrats-las-vegas-clark-county-youre-only-1178161041-from-paying-off-your-raiders-stadium-debt-remember-its-principal-and-interest/#:~:text=During%20the%2030%2Dyear%20debt,construction%20budget%20of%20%241.4%20billion. \n",
    "5. <a name=\"cite_note-5\"></a> [^](#cite_ref-5) (21 October 2024) NFL Stadiums Impact on Local CRE Markets. *Matthews Real Estate Investment Services*. https://www.matthews.com/nfl-stadiums-impact-on-local-cre-markets/#:~:text=Data%20shows%20a%205%25%20increase,within%20the%20first%20five%20years. \n",
    "6. <a name=\"cite_note-6\"></a> [^](#cite_ref-6) Zimbalist, A (1 June 1997) Sports, Jobs, & Taxes: Are New Stadiums Worth the Cost? *Brookings*. https://www.brookings.edu/articles/sports-jobs-taxes-are-new-stadiums-worth-the-cost/ \n",
    "\n"
   ]
  },
  {
   "cell_type": "markdown",
   "metadata": {},
   "source": [
    "# Hypothesis\n"
   ]
  },
  {
   "cell_type": "markdown",
   "metadata": {},
   "source": [
    "We believe NFL stadiums built in the last 10 years will positively impact a city's debt, revenue, and income. Our reasoning for this belief comes from the notion that new stadiums would increase jobs (in instances such as construction), and business revenue (with tourists coming to the city for the stadium's events)."
   ]
  },
  {
   "cell_type": "markdown",
   "metadata": {},
   "source": [
    "# Data"
   ]
  },
  {
   "cell_type": "markdown",
   "metadata": {},
   "source": [
    "## Data overview\n",
    "\n",
    "- Population Dataset\n",
    "  - Dataset here: https://docs.google.com/spreadsheets/d/1hLiYQW5tFEq3KTOeEDcGUxy1QXBsP91ZT1nQOBHrUsA/edit?usp=sharing\n",
    "  - 20 observations\n",
    "  - 4 variables\n",
    "\n",
    "The population dataset shows the changes in population of a city in the years following the establishment of a stadium. For the Levi's stadium, it begins with Santa Clara's population from 2015-2019. Sofi stadium (Inglewood) only looks at 2021-2022, while Allegiant staduim (Las Vegas) is from 2021-2024, Mercedes Benz stadium (Atlanta) is from 2018-2020, and the US Bank stadium (Minneapolis) is from 2017-2021. We can also see the rate of population growth, compared to the previous year.\n",
    "\n",
    "- Housing Dataset\n",
    "  - Dataset here: https://docs.google.com/spreadsheets/d/1sIT9oYn11AFPVs8w9qUqVCKToo4qc4vGYhg_3HOG_hM/edit?usp=sharing\n",
    "  - 770 observations\n",
    "  - 20 variables\n",
    "\n",
    " This dataset focuses on all five stadiums housing markets from the years 2012 to 2024. The data intends to look at the latter years and first years before the stadiums were buit in their cities. We hope to use this data to see trends in the market affected when the stadiums appeared. From here it can be inferred how local housing has to adapt to the situation. \n",
    "\n",
    "- Las Vegas Financials\n",
    "  - Dataset: https://docs.google.com/spreadsheets/d/e/2PACX-1vRWQlilm830or1ohUTafSZ2qq9aXxfSwrshR56n8InR7T6XxJI_no18gp0SoynfYkIF8G7TTgPB1xbj/pubhtml\n",
    "  - 7 observations\n",
    "  - 15 variables\n",
    "\n",
    "This dataset is an accumulation of Las Vegas' financial reports from the 3 years before Allegiant Stadium was built (2017-2019) and the 4 years after it was built (2021-2024). In this dataset, the observations are years, and the variables are the different metrics the city used to report on financially. There are only fifteen due to skipping the city name column in my graph. In my code I cleaned the data by indexing specific columns and dropping the columns missing variables beforehand in a larger spreadsheet. This led to already clean data in the link above.\n",
    "\n",
    "- Minneapolis Financials\n",
    "  - Dataset: https://docs.google.com/spreadsheets/d/e/2PACX-1vQW3pxGBHdGLF-wjEEVuhInh2JcYLEAqxo48VbjdEdhzy4ejOqCY3rB29cwopmlWFrXV_2twJENPO8h/pubhtml\n",
    "  - 7 observations\n",
    "  - 16 variables\n",
    "\n",
    "This dataset looks at the change in revenue and expenses made by the city of Minneapolis in the two years before the US Bank Stadium was built in 2016, and the five years afterwards (2017-2021). Unfortunately, finding comprehensive and reliable numbers from earlier than 2014 was difficult, as was information on bonds and debt. These rows and columns have been filtered out.*\n",
    "\n",
    "- Inglewood Financials\n",
    "  - Dataset: https://docs.google.com/spreadsheets/d/e/2PACX-1vRA2SGlkTZPCv7rJeyP7aYDJkG6tIAXv_Wz99o-ZOQEnrhtAcbGa7q4N4KT1zfLac7iEjFH1FowHwmH/pubhtml\n",
    "  - 5 observations\n",
    "  - 16 variables\n",
    "\n",
    "This dataset looks at the changes in revenue and expenses within the city of Inglewood over the course of five years, with three being before the opening of SoFi Stadium in 2020 and two being after. The observations in this dataset are the five individual years we looked at, with the individual variables being different categories the city reported on to describe the city's finances. This data was found in the city's public CAFR for each year.\n",
    "\n",
    "- Santa Clara Financials\n",
    "  - Dataset: https://docs.google.com/spreadsheets/d/e/2PACX-1vTsupJA9XsVeoAiW18f2J6YpDCsHFCAMqYHgKjexJsTg7YPEjcMIYLgHNblIMM-ViKkJaTmJkfler7u/pubhtml\n",
    "  - 8 observations\n",
    "  - 24 variables\n",
    "\n",
    "This dataset looks at financial information in the city of Santa Clara corresponding to the 3 years prior to the construction of Levi's Stadium and the 5 subsequent years. The stadium was built in 2014 for the San Francisco 49ers. The information within the dataset displays amounts (in US dollars) the city of Santa Clara reported in various kinds of bonds, expenditures, and revenues. The data was found via the city of Santa Clara's Comprehensive Annual Financial Reports from the years 2011-2013 and 2015-2019, where most of the relevant information was found (apart from in the year 2019).\n",
    "\n",
    "- Atlanta Financials\n",
    "  - Dataset: https://docs.google.com/spreadsheets/d/e/2PACX-1vT9d1vXy86vtY61L7EsFLjVJlKsKvMrsShrC4vWtCTOmqCh2iy6FoLd-Y_mUiz1FB2-cgy2ssTqVkVI/pubhtml\n",
    "  - 7 observations\n",
    "  - 16 variables\n",
    "\n",
    "This dataset focuses on the financial performance of the city of Atlanta during the three years before and the four years after the construction of Mercedes-Benz Stadium, completed in 2017. The observations span from 2013 to 2020, representing individual years, with the variables (16 total) including categories like city revenue, operating expenses, capital expenditures, and other financial metrics reported in the city's Popular Annual Financial Reports (PAFR) serving as proxies for measuring the city's economic activity via revenue streams and expenditures, and financial health over the time frame. The dataset required minimal preprocessing due to it being manually sourced directly from the city's PAFR for  reliability purposes. During the cleaning process, columns with missing variables were dropped from the larger financial spreadsheet for all the cities, \"Cities Financial Report\", to focus the analysis to Atlanta and have consistency.\n",
    "\n",
    "- Stadium Dataset\n",
    "  - Dataset here: https://docs.google.com/spreadsheets/d/16QdlYQWEPNjf9p7vE9-p6aWOmIa-d9nBH89PBxSWK18/edit?usp=sharing\n",
    "  - 19 observations\n",
    "  - 12 variables\n",
    "\n",
    "The stadium dataset records different kinds of information related to the 5 stadiums during their first few years of operation, including revenues (and different types of revenues), expenditures, and stadium data such as yearly average ticket pricing and average stadium attendance. These years correspond to the post-construction years included in the 5 city datasets. For certain stadiums, such as SoFi Stadium and Mercedes-Benz Stadium, certain information related to revenues and expenditures in particular were not made public; additionally, Allegiant Stadium uses Las Vegas room tax for operations, so the implications of their financial reports are not entirely clear. We hope to use this data to compare effects of certain stadium variables on city revenues and expenditures.\n",
    "\n",
    "Through trends in a city's end-of-year reports, we plan on showing each city's financial situations before and after a stadium was built. With each city visualized, we then plan to compare all cities in another graph to see if there is a general positive or negative impact of stadiums on city finances."
   ]
  },
  {
   "cell_type": "markdown",
   "metadata": {},
   "source": [
    "# Preprocessing and Data Analysis"
   ]
  },
  {
   "cell_type": "code",
   "execution_count": null,
   "metadata": {},
   "outputs": [],
   "source": [
    "import seaborn as sns\n",
    "sns.set(font_scale=2, style='white')\n",
    "\n",
    "import matplotlib as mpl\n",
    "import matplotlib.pyplot as plt\n",
    "import matplotlib.style as style\n",
    "\n",
    "plt.rcParams['figure.figsize'] = (17, 7)\n",
    "\n",
    "import pandas as pd\n",
    "import numpy as np\n",
    "import statsmodels.api as sm\n",
    "\n",
    "from sklearn.preprocessing import MinMaxScaler"
   ]
  },
  {
   "cell_type": "markdown",
   "metadata": {},
   "source": [
    "## Population Data"
   ]
  },
  {
   "cell_type": "code",
   "execution_count": null,
   "metadata": {},
   "outputs": [],
   "source": [
    "population_data = pd.read_csv('PopData.csv')\n",
    "population_data.rename(columns = {'population growth rate':'growth_rate'}, inplace=True)"
   ]
  },
  {
   "cell_type": "markdown",
   "metadata": {},
   "source": [
    "## Housing Data"
   ]
  },
  {
   "cell_type": "code",
   "execution_count": null,
   "metadata": {},
   "outputs": [],
   "source": [
    "## YOUR CODE TO LOAD/CLEAN/TIDY/WRANGLE THE DATA GOES HERE\n",
    "## FEEL FREE TO ADD MULTIPLE CELLS PER SECTION "
   ]
  },
  {
   "cell_type": "markdown",
   "metadata": {},
   "source": [
    "## Cities Data"
   ]
  },
  {
   "cell_type": "markdown",
   "metadata": {},
   "source": [
    "### Las Vegas Data"
   ]
  },
  {
   "cell_type": "code",
   "execution_count": null,
   "metadata": {},
   "outputs": [],
   "source": [
    "vegas_Finance = 'VegasStats.csv'\n",
    "vegas = pd.read_csv(vegas_Finance)\n",
    "vegas_rev = vegas.loc[:, 'Taxes':'Other Revenue'].columns.tolist()\n",
    "vegas_expen = vegas.loc[:, 'General Government':'Interest and Fiscal Charges'].columns.tolist()\n",
    "vegas[vegas_rev] = vegas[vegas_rev].apply(pd.to_numeric, errors='coerce')\n",
    "vegas[vegas_expen] = vegas[vegas_expen].apply(pd.to_numeric, errors='coerce')\n",
    "vegas['revenue'] = vegas[vegas_rev].sum(axis=1)\n",
    "vegas['expenditures'] = vegas[vegas_expen].sum(axis=1)\n"
   ]
  },
  {
   "cell_type": "markdown",
   "metadata": {},
   "source": [
    "### Minneapolis Data"
   ]
  },
  {
   "cell_type": "code",
   "execution_count": null,
   "metadata": {},
   "outputs": [],
   "source": [
    "minneapolis_Finance = 'MinneStats.csv'\n",
    "minneapolis_raw = pd.read_csv(minneapolis_Finance)\n",
    "minneapolis_raw.dropna(axis = 1, how = 'all', inplace  = True)\n",
    "minneapolis = minneapolis_raw.drop(0).drop('General Obligation Bonds', axis=1)\n",
    "\n",
    "minneapolis_rev = minneapolis.loc[:, 'Taxes':'Other Revenue'].columns.tolist()\n",
    "minneapolis_expen = minneapolis.loc[:, 'General Government':'Interest and Fiscal Charges'].columns.tolist()\n",
    "\n",
    "minneapolis['Revenue'] = minneapolis[minneapolis_rev].sum(axis = 1)\n",
    "minneapolis['Expenditures'] = minneapolis[minneapolis_expen].sum(axis = 1)\n"
   ]
  },
  {
   "cell_type": "markdown",
   "metadata": {},
   "source": [
    "### Santa Clara Data"
   ]
  },
  {
   "cell_type": "code",
   "execution_count": null,
   "metadata": {},
   "outputs": [],
   "source": [
    "santaclara_Finance = 'SantaClaraStats.csv'\n",
    "santaclara = pd.read_csv(santaclara_Finance)\n",
    "santaclara = santaclara.apply(pd.to_numeric, errors='coerce')\n",
    "santaclara = santaclara.dropna(axis=1, how='any', inplace=True)\n",
    "print(santaclara)\n",
    "\n",
    "santaclara['revenue'] = santaclara[['taxes', 'licenses and permits', 'fines, forfeitures, and penalties', 'interest and investment income', 'intergovernmental revenues', 'charges for services', 'other revenue']].sum(axis=1)\n",
    "santaclara['expenditures'] = santaclara[['general government', 'public protection', 'health and sanitation', 'public assistance', 'capital outlay', 'principal retirement', 'interest and fiscal charges']].sum(axis=1)"
   ]
  },
  {
   "cell_type": "markdown",
   "metadata": {},
   "source": [
    "### Inglewood Data"
   ]
  },
  {
   "cell_type": "code",
   "execution_count": null,
   "metadata": {},
   "outputs": [],
   "source": [
    "inglewood_Finance = 'InglewoodStats.csv'\n",
    "inglewood = pd.read_csv(inglewood_Finance)\n",
    "inglewood.columns = inglewood.columns.str.lower()\n",
    "\n",
    "inglewood['revenue'] = inglewood[['taxes', 'licenses and permits', 'fines, forfeitures, and penalties', 'interest and investment income', 'intergovernmental revenues', 'charges for services', 'other revenue']].sum(axis=1)\n",
    "inglewood['expenditures'] = inglewood[['general government', 'public protection', 'health and sanitation', 'public assistance', 'capital outlay', 'principal retirement', 'interest and fiscal charges']].sum(axis=1)"
   ]
  },
  {
   "cell_type": "markdown",
   "metadata": {},
   "source": [
    "### Atlanta Data"
   ]
  },
  {
   "cell_type": "code",
   "execution_count": null,
   "metadata": {},
   "outputs": [],
   "source": [
    "atlanta_Finance = 'AtlantaStats.csv'\n",
    "atlanta = pd.read_csv(atlanta_Finance)\n",
    "atlanta_rev = atlanta.loc[:, 'Taxes':'Other Revenue'].columns.tolist()\n",
    "atlanta_expen = atlanta.loc[:, 'General Government':'Interest and Fiscal Charges'].columns.tolist()\n",
    "\n",
    "atlanta[atlanta_rev] = atlanta[atlanta_rev].apply(pd.to_numeric, errors='coerce')\n",
    "atlanta[atlanta_expen] = atlanta[atlanta_expen].apply(pd.to_numeric, errors='coerce')\n",
    "\n",
    "atlanta['revenue'] = atlanta[atlanta_rev].sum(axis=1)\n",
    "atlanta['expenditures'] = atlanta[atlanta_expen].sum(axis=1)\n"
   ]
  },
  {
   "cell_type": "markdown",
   "metadata": {},
   "source": [
    "##Stadium Data"
   ]
  },
  {
   "cell_type": "code",
   "execution_count": null,
   "metadata": {},
   "outputs": [],
   "source": [
    "StadiumData = pd.read_csv('StadiumData.csv')\n",
    "StadiumData['average attendance'] = StadiumData['average attendance'].str.replace('* (COVID)', '')\n",
    "StadiumData = StadiumData.drop(columns = ['SBL license revenue', 'sponsorship revenue', 'insurance'])\n",
    "non_str_columns = StadiumData.drop(columns=['stadium']).apply(pd.to_numeric, errors = 'coerce')\n",
    "StadiumData = pd.concat([StadiumData[['stadium']], non_str_columns], axis = 1)\n"
   ]
  },
  {
   "cell_type": "markdown",
   "metadata": {},
   "source": [
    "# Results\n",
    "\n",
    "## Exploratory Data Analysis\n",
    "\n",
    "Carry out whatever EDA you need to for your project. Because every project will be different we can't really give you much of a template at this point. But please make sure you describe the what and why in text here as well as providing interpretation of results and context."
   ]
  },
  {
   "cell_type": "markdown",
   "metadata": {},
   "source": [
    "## First Analysis You Did - Give it a better title\n",
    "\n",
    "Some more words and stuff.  Remember notebooks work best if you interleave the code that generates a result with properly annotate figures and text that puts these results into context."
   ]
  },
  {
   "cell_type": "markdown",
   "metadata": {},
   "source": [
    "## Visuals\n",
    "\n",
    "Here is where we begin observing and comparing the data we've collected.",
    "\n",
    "## Las Vegas Yearly Financial Changes"
   ]
  },
  {
   "cell_type": "code",
   "execution_count": null,
   "metadata": {},
   "outputs": [],
   "source": [
    "plt.figure(figsize=(14, 10))\n",
    "plt.plot(vegas['year'], vegas['revenue'], label='Revenue', color='green', marker='o')\n",
    "plt.plot(vegas['year'], vegas['expenditures'], label='Expenditures', color='blue', marker='o')\n",
    "\n",
    "plt.title('Las Vegas Yearly Financial Changes')\n",
    "plt.xlabel('Year')\n",
    "plt.ylabel('Amount in Money')\n",
    "plt.grid(True)\n",
    "plt.legend()\n",
    "plt.xticks(vegas['year'])\n",
    "plt.tight_layout()\n",
    "plt.show()\n"
   ]
  },
  {
   "cell_type": "markdown",
   "metadata": {},
   "source": [
    "Talk a little bit about the Vegas graphs here!!!!!\n",
    "\n",
    "## Atlanta Yearly Financial Changes\n",
    "\n",
    "explain dataset, findings, conclusions, etc."
   ]
  },
  {
   "cell_type": "code",
   "execution_count": null,
   "metadata": {},
   "outputs": [],
   "source": [
    "plt.figure(figsize=(14, 10))\n",
    "plt.plot(atlanta['year'], atlanta['revenue'], label='Revenue', color='green', marker='o')\n",
    "plt.plot(atlanta['year'], atlanta['expenditures'], label='Expenditures', color='blue', marker='o')\n",
    "\n",
    "plt.title('Atlanta Yearly Financial Changes')\n",
    "plt.xlabel('Year')\n",
    "plt.ylabel('Amount in Money')\n",
    "plt.grid(True)\n",
    "plt.legend()\n",
    "plt.xticks(atlanta['year'])\n",
    "plt.tight_layout()\n",
    "plt.show()\n"
   ]
  },
{
   "cell_type": "markdown",
   "metadata": {},
   "source": [
    "Talk a little bit about the Atlanta graphs here!!!!!\n",
    "\n",
    "## Minneapolis Yearly Financial Changes\n",
    "\n",
    "explain dataset, findings, conclusions, etc."
   ]
  },
  {
   "cell_type": "code",
   "execution_count": null,
   "metadata": {},
   "outputs": [],
   "source": [
    "plt.figure(figsize=(10,7))\n",
    "plt.plot(minneapolis['year'], minneapolis['Revenue'], label='Revenue', color='green', marker='o')\n",
    "plt.plot(minneapolis['year'], minneapolis['Expenditures'], label='Expenditures', color='red', marker='o')\n",
    "# Standardize column labeling for later total city graph use\n",
    "minneapolis.rename(columns={'Revenue': 'revenue', 'Expenditures': 'expenditures'}, inplace=True)\n",
    "\n",
    "plt.title('Minneapolis Yearly Financial Changes')\n",
    "plt.xlabel('Year')\n",
    "plt.ylabel('Amount in Money')\n",
    "plt.grid(True)\n",
    "plt.legend()\n",
    "plt.xticks(minneapolis['year'])\n",
    "plt.tight_layout()\n",
    "plt.show()\n"
   ]
  },
{
   "cell_type": "markdown",
   "metadata": {},
   "source": [
    "Talk a little bit about the Minneapolis graphs here!!!!!\n",
    "\n",
    "## Santa Clara Yearly Financial Changes\n",
    "\n",
    "explain dataset, findings, conclusions, etc."
   ]
  },
  {
   "cell_type": "code",
   "execution_count": null,
   "metadata": {},
   "outputs": [],
   "source": [
    "plt.figure(figsize=(10,7))\n",
    "plt.plot(santaclara['year'], santaclara['revenue'], label='Revenue', color='green', marker='o')\n",
    "plt.plot(santaclara['year'], santaclara['expenditures'], label='Expenditures', color='blue', marker='o')\n",
    "\n",
    "plt.title('Santa Clara Yearly Financial Changes')\n",
    "plt.xlabel('Year')\n",
    "plt.ylabel('Amount in Money')\n",
    "plt.grid(True)\n",
    "plt.legend()\n",
    "plt.xticks(santaclara['year'])\n",
    "plt.tight_layout()\n",
    "plt.show()\n"
   ]
  },
{
   "cell_type": "markdown",
   "metadata": {},
   "source": [
    "Talk a little bit about the Santa Clara graphs here!!!!!\n",
    "\n",
    "## Inglewood Yearly Financial Changes\n",
    "\n",
    "explain dataset, findings, conclusions, etc."
   ]
  },
  {
   "cell_type": "code",
   "execution_count": null,
   "metadata": {},
   "outputs": [],
   "source": [
    "plt.figure(figsize=(10,7))\n",
    "plt.plot(inglewood['year'], inglewood['revenue'], label='Revenue', color='green', marker='o')\n",
    "plt.plot(inglewood['year'], inglewood['expenditures'], label='Expenditures', color='blue', marker='o')\n",
    "\n",
    "plt.title('Inglewood Yearly Financial Changes')\n",
    "plt.xlabel('Year')\n",
    "plt.ylabel('Amount in Money')\n",
    "plt.grid(True)\n",
    "plt.legend()\n",
    "plt.xticks(inglewood['year'])\n",
    "plt.tight_layout()\n",
    "plt.show()\n"
   ]
  },
{
   "cell_type": "markdown",
   "metadata": {},
   "source": [
    "Talk a little bit about the Inglewood graphs here!!!!!\n",
    "\n",
    "## All Datasets Joined\n",
    "\n",
    "explain dataset, findings, conclusions, etc."
   ]
  },
  {
   "cell_type": "code",
   "execution_count": null,
   "metadata": {},
   "outputs": [],
   "source": [
    "#Dataset creation\n",
    "vegas['city'] = 'Las Vegas'\n",
    "atlanta['city'] = 'Atlanta'\n",
    "minneapolis['city'] = 'Minneapolis'\n",
    "santaclara['city'] = 'Santa Clara'\n",
    "inglewood['city'] = 'Inglewood'\n",
    "rev_exp_data = pd.concat([vegas, atlanta, minneapolis, santaclara, inglewood], ignore_index=True)\n",
    "\n",
    "# Ensure 'year', 'revenue', and 'expenditures' columns are present and correctly typed\n",
    "rev_exp_data['year'] = pd.to_numeric(rev_exp_data['year'], errors='coerce')\n",
    "rev_exp_data['revenue'] = pd.to_numeric(rev_exp_data['revenue'], errors='coerce')\n",
    "rev_exp_data['expenditures'] = pd.to_numeric(rev_exp_data['expenditures'], errors='coerce')\n",
    "\n",
    "# Stadium construction years\n",
    "stadium_years = {'Las Vegas': 2020, 'Atlanta': 2017, 'Minneapolis': 2016, 'Santa Clara': 2014, 'Inglewood': 2020}\n",
    "\n",
    "# Categorize years into Before and After\n",
    "def categorize_year(year, stadium_year):\n",
         "if year < stadium_year:\n",
              "return 'Before Construction'\n",
         "elif year > stadium_year:\n",
              "return 'After Construction'\n",
         "else:\n",
              "return None # Exclude construction year explicitly\n",
    "\n",
    "# Apply stadium_phase categorization\n",
    "rev_exp_data['stadium_phase'] = rev_exp_data.apply(lambda row: categorize_year(row['year'], stadium_years[row['city']]), axis=1)\n",
    "\n",
    "# Remove rows with stadium_phase == None\n",
    "rev_exp_data = rev_exp_data[rev_exp_data['stadium_phase'].notnull()]\n",
    "\n",
    "# Set custom order for stadium_phase\n",
    "stadium_phase_order = ['Before Construction', 'After Construction']\n",
    "rev_exp_data['stadium_phase'] = pd.Categorical(rev_exp_data['stadium_phase'], categories=stadium_phase_order, ordered=True)\n",
    "\n",
    "# Group data by city and stadium phase, calculate mean revenue and expenditures\n",
    "summary = rev_exp_data.groupby(['city', 'stadium_phase'], observed=True)[['revenue', 'expenditures']].mean().reset_index()\n",
    "\n",
    "# Individual Revenue Chart\n",
    "plt.figure(figsize=(12, 8))\n",
    "sns.barplot(data=summary, x='city', y='revenue', hue='stadium_phase', hue_order=stadium_phase_order, palette='Blues')\n",
    "plt.title('Average Revenue Before and After Stadium Construction')\n",
    "plt.ylabel('Average Revenue (Log Scale)')\n",
    "plt.xlabel('City')\n",
    "plt.yscale('log') # Use logarithmic scale\n",
    "plt.legend(title='Stadium Phase')\n",
    "plt.tight_layout()\n",
    "plt.show()\n",
    "# Individual Expenditures Chart\n",
    "plt.figure(figsize=(12, 8))\n",
    "sns.barplot(data=summary, x='city', y='expenditures', hue='stadium_phase', hue_order=stadium_phase_order, palette='Oranges')\n",
    "plt.title('Average Expenditures Before and After Stadium Construction')\n",
    "plt.ylabel('Average Expenditures (Log Scale)')\n",
    "plt.xlabel('City')\n",
    "plt.yscale('log') # Use logarithmic scale\n",
    "plt.legend(title='Stadium Phase')\n",
    "plt.tight_layout()\n",
    "plt.show()\n",
    "\n",
    "# rev_exp Revenue and Expenditures Chart\n",
    "# Calculate average revenue and expenditures for all cities rev_exp\n",
    "average_summary = summary.groupby('stadium_phase', observed=True)[['revenue', 'expenditures']].mean().reset_index()\n",
    "average_summary['city'] = 'All Cities'\n",
    "\n",
    "# Add the rev_exp averages to the summary data\n",
    "extended_summary = pd.concat([summary, average_summary], ignore_index=True)\n",
    "\n",
    "# Melt the extended summary for plotting\n",
    "melted_extended_summary = extended_summary.melt(id_vars=['city', 'stadium_phase'], value_vars=['revenue', 'expenditures'], var_name='financial_metric', value_name='amount')\n",
    "\n",
    "# Plot the rev_exp chart with All Cities rev_exp\n",
    "plt.figure(figsize=(14, 8))\n",
    "sns.barplot(data=melted_extended_summary, x='city', y='amount', hue='stadium_phase', hue_order=stadium_phase_order, palette='Set2', dodge=True)\n",
    "# Add titles and labels\n",
    "plt.title('Average Revenue and Expenditures Before and After Stadium Construction')\n",
    "plt.ylabel('Amount (Log Scale)')\n",
    "plt.xlabel('City')\n",
    "plt.yscale('log') # Use logarithmic scale\n",
    "plt.legend(title='Stadium Phase')\n",
    "plt.tight_layout()\n",
    "plt.show()"
   ]
  },
{
   "cell_type": "markdown",
   "metadata": {},
   "source": [
    "Talk a little bit about the joined graphs here!!!!!\n",
    "\n",
    "## Housing Data Visuals\n",
    "\n",
    "explain dataset, findings, conclusions, etc."
   ]
  },
  {
   "cell_type": "code",
   "execution_count": null,
   "metadata": {},
   "outputs": [],
   "source": [
    "##Editing note: this works but gets buggy getting added into the heatmap, DUPLICATE before tinkering\n",
    "##Potential fixes: housing csv does not include year (but month to year works well) so the merge is probably going wrong with inproper date conenction\n",
    "\n",
    "housing_data_path = 'https://docs.google.com/spreadsheets/d/e/2PACX-1vS1FXrjljhpCSjswl18zxG3ej1-59xXcjsqrYbcBBvYtMpwYQI69wPQ5lFdrG2sRrE54y4n92oJarI5/pub?gid=365951239&single=true&output=csv'\n",
    "housing_data = pd.read_csv(housing_data_path)\n",
    "\n",
    "# Function to clean numeric columns\n",
    "def clean_numeric_column(column):\n",
    "# Replace empty strings and non-numeric entries with NaN, then process\n",
    "column = column.replace('^\\s*$', np.nan, regex=True) # Replace empty strings with NaN\n",
    "return column.astype(str).str.replace(r'[^0-9.]', '', regex=True).replace('', np.nan).astype(float)\n",
    "\n",
    "# Rename columns to standardize names\n",
    "housing_data.rename(columns={'Median Sale Price': 'median_sale_price', 'Inventory': 'inventory', 'Days on Market': 'days_on_market'}, inplace=True)\n",
    "\n",
    "# Select only the necessary columns for analysis\n",
    "housing_data = housing_data[['Region', 'Month of Period End', 'median_sale_price', 'inventory', 'days_on_market']]\n",
    "\n",
    "# Clean non-numeric values in `median_sale_price`, `inventory`, and `days_on_market`\n",
    "housing_data['median_sale_price'] = clean_numeric_column(housing_data['median_sale_price'])\n",
    "housing_data['inventory'] = clean_numeric_column(housing_data['inventory'])\n",
    "housing_data['days_on_market'] = pd.to_numeric(housing_data['days_on_market'], errors='coerce')\n",
    "\n",
    "# Parse `Month of Period End` to datetime and extract the year\n",
    "housing_data['Month of Period End'] = pd.to_datetime(housing_data['Month of Period End'], format='%b-%y', errors='coerce')\n",
    "housing_data['year'] = housing_data['Month of Period End'].dt.year\n",
    "\n",
    "# Drop rows with missing years\n",
    "housing_data = housing_data.dropna(subset=['year'])\n",
    "\n",
    "# Drop rows with missing numeric values\n",
    "housing_data = housing_data.dropna(subset=['median_sale_price', 'inventory', 'days_on_market'])\n",
    "\n",
    "# Group by `Region` and `year`, then calculate yearly averages\n",
    "housing_data = housing_data.groupby(['Region', 'year']).mean().reset_index()\n",
    "\n",
    "### FURTHER ANALYSIS FOR OTHER DATASETS\n",
    "##Load the data for Stadium Data and City Population\n",
    "stadium_data_path = 'StadiumData.csv'\n",
    "population_data_path = 'PopData.csv'\n",
    "##NOTE:housing initialization in the housing dataset cleanup section\n",
    "\n",
    "# Explanation of Included Variables from housing:\n",
    "# - `median_sale_price`: To analyze if housing prices are impacted by stadium construction and surrounding economic changes.\n",
    "# - `inventory`: Represents housing supply, potentially linked to increased demand near stadiums.\n",
    "# - `days_on_market`: Indicates how quickly homes are selling, reflecting market activity potentially affected by stadiums.\n",
    "# These variables are relevant for exploring economic and community impacts of stadium construction.\n",
    "\n",
    "# Load the datasets\n",
    "stadium_data = pd.read_csv(stadium_data_path)\n",
    "population_data = pd.read_csv(population_data_path)\n",
    "\n",
    "# Ensure column names match\n",
    "stadium_data.rename(columns={'average ticket price': 'ticket_price', 'average attendance': 'attendance'}, inplace=True)\n",
    "population_data.rename(columns={'population growth rate': 'growth_rate'}, inplace=True)\n",
    "\n",
    "# Merge datasets\n",
    "combined_data = pd.merge(stadium_data, population_data, on=['stadium', 'year'], how='inner')\n",
    "\n",
    "# Replace non-numeric values (e.g., '-') with NaN and convert columns to numeric\n",
    "numeric_columns = ['total revenue', 'ticket revenue', 'SBL license revenue', 'sponsorship revenue', 'naming rights revenue', 'attendance', 'ticket_price', 'total expenses', 'stadium operations', 'insurance', 'population', 'growth_rate']\n",
    "for col in numeric_columns:\n",
    "if col in combined_data.columns:\n",
    "combined_data[col] = pd.to_numeric(combined_data[col], errors='coerce')\n",
    "\n",
    "# Drop rows with all NaN values in numeric columns\n",
    "combined_data = combined_data.dropna(subset=numeric_columns, how='all')\n",
    "\n",
    "# Calculate the correlation matrix\n",
    "correlation_matrix = combined_data[numeric_columns].corr()\n",
    "\n",
    "# Plot the heatmap with improvements\n",
    "plt.figure(figsize=(12, 10))\n",
    "sns.heatmap(correlation_matrix, annot=True, fmt='.2f', cmap='coolwarm', linewidths=0.5, annot_kws={'size': 10, 'color': 'black'} # Increase annotation font size and contrast)\n",
    "plt.xticks(fontsize=10, rotation=45, ha='right') # Rotate x-axis labels for clarity\n",
    "plt.yticks(fontsize=10)\n",
    "plt.title('Correlation Matrix Heatmap', fontsize=14)\n",
    "plt.tight_layout()\n",
    "plt.show()\n",
    "\n",
    "# Scatter plot for Average Ticket Price vs Average Attendance\n",
    "plt.figure(figsize=(12, 8))\n",
    "sns.scatterplot(data=combined_data, x='ticket_price', y='attendance', hue='stadium', # Differentiate stadiums by color style='year', # Differentiate years by marker style palette='viridis', s=150 # Increase marker size for better visibility)\n",
    "\n",
    "# Add a thicker trendline\n",
    "sns.regplot(data=combined_data, x='ticket_price', y='attendance', scatter=False, # Only show the trendline color='red', line_kws={'linewidth': 2, 'label': 'Trendline'})\n",
    "\n",
    "# Adjust legend and labels\n",
    "plt.title('Average Ticket Price vs Average Attendance by Stadium and Year', fontsize=14)\n",
    "plt.xlabel('Average Ticket Price (USD)', fontsize=12)\n",
    "plt.ylabel('Average Attendance', fontsize=12)\n",
    "plt.legend(title='Legend', fontsize=10, title_fontsize=12, loc='upper right')\n",
    "plt.grid(True, linestyle='--', linewidth=0.5)\n",
    "plt.tight_layout()\n",
    "plt.show()\n"
   ]
  },
{
   "cell_type": "markdown",
   "metadata": {},
   "source": [
    "Talk about those 2 billion graphs here!!!!!\n",
    "\n",
    "## Population Data Visuals\n",
    "\n",
    "explain dataset, findings, conclusions, etc."
   ]
  },
 {
   "cell_type": "code",
   "execution_count": null,
   "metadata": {},
   "outputs": [],
   "source": [
    "###POPULTATION\n",
    "\n",
    "# Population Over Time by Stadium\n",
    "plt.figure(figsize=(12, 8))\n",
    "sns.lineplot(data=combined_data, x='year', y='population', hue='stadium', marker='o', palette='tab10')\n",
    "plt.title('Population Over Time by Stadium', fontsize=14)\n",
    "plt.xlabel('Year', fontsize=12)\n",
    "plt.ylabel('Population', fontsize=12)\n",
    "plt.legend(title='Stadium', fontsize=10, title_fontsize=12)\n",
    "plt.grid(True, linestyle='--', linewidth=0.5)\n",
    "plt.tight_layout()\n",
    "plt.show()\n",
    "\n",
    "# Population Growth Rate by Stadium\n",
    "plt.figure(figsize=(12, 8))\n",
    "sns.barplot(data=combined_data, x='stadium', y='growth_rate', hue='year', palette='viridis', dodge=True)\n",
    "plt.title('Population Growth Rate by Stadium', fontsize=14)\n",
    "plt.xlabel('Stadium', fontsize=12)\n",
    "plt.ylabel('Growth Rate (%)', fontsize=12)\n",
    "plt.legend(title='Year', fontsize=10, title_fontsize=12, loc='upper right')\n",
    "plt.grid(True, linestyle='--', linewidth=0.5)\n",
    "plt.tight_layout()\n",
    "plt.show()\n"
   ]
  },
{
   "cell_type": "markdown",
   "metadata": {},
   "source": [
    "Talk about population graphs here!!!!!\n",
    "\n",
    "## Timeline Trends Visuals\n",
    "\n",
    "explain dataset, findings, conclusions, etc."
   ]
  },
 {
   "cell_type": "code",
   "execution_count": null,
   "metadata": {},
   "outputs": [],
   "source": [
    "##TIMELINE TRENDS\n",
    "##Trends Over Time for Multiple Variables (revenue,expense,stadium attendance,city population)\n",
    "##Variables:\n",
    "## total city revenue (for economic growth)\n",
    "## expense (to check profitibility compared to revenue)\n",
    "## stadium attendance (to check correlation with revenue)\n",
    "## stadium ticket revenue (to check revenue trends)\n",
    "## population (to compare to city's revenue/economic growth)\n",
    "## population growth rate (for a more in-depth view of population)\n",
    "\n",
    "plt.figure(figsize=(14, 8))\n",
    "\n",
    "# Define the variables to include in the timeline graph\n",
    "variables_to_plot = ['total revenue', 'total expenses', 'attendance', 'population', 'growth_rate', 'ticket revenue']\n",
    "\n",
    "# Normalize the variables for consistent scaling\n",
    "scaler = MinMaxScaler()\n",
    "variables_to_plot = ['total revenue', 'total expenses', 'attendance', 'population', 'growth_rate', 'ticket revenue']\n",
    "\n",
    "# Ensure variables exist in the dataset\n",
    "valid_variables = [var for var in variables_to_plot if var in combined_data.columns]\n",
    "\n",
    "# Normalize only the valid variables\n",
    "combined_data_scaled = combined_data.copy()\n",
    "combined_data_scaled[valid_variables] = scaler.fit_transform(combined_data[valid_variables])\n",
    "\n",
    "# Plot normalized trends over time\n",
    "plt.figure(figsize=(14, 8))\n",
    "for variable in valid_variables:\n",
    "sns.lineplot(data=combined_data_scaled, x='year', y=variable, marker='o', label=variable, alpha=0.8)\n",
    "\n",
    "# Add title and labels\n",
    "plt.title('Timeline Analysis: Normalized Trends Over Time', fontsize=16)\n",
    "plt.xlabel('Year', fontsize=14)\n",
    "plt.ylabel('Normalized Value', fontsize=14)\n",
    "plt.legend(title='Variables', fontsize=12)\n",
    "plt.grid(True, linestyle='--', linewidth=0.5)\n",
    "plt.tight_layout()\n",
    "plt.show()\n"
   ]
  },
{
   "cell_type": "markdown",
   "metadata": {},
   "source": [
    "Talk about timeline trends graph here!!!!!"
   ]
  },
  {
   "cell_type": "markdown",
   "metadata": {},
   "source": [
    "## Second Analysis You Did - Give it a better title\n",
    "\n",
    "Some more words and stuff.  Remember notebooks work best if you interleave the code that generates a result with properly annotate figures and text that puts these results into context."
   ]
  },
  {
   "cell_type": "code",
   "execution_count": null,
   "metadata": {},
   "outputs": [],
   "source": [
    "## YOUR CODE HERE\n",
    "## FEEL FREE TO ADD MULTIPLE CELLS PER SECTION"
   ]
  },
  {
   "cell_type": "markdown",
   "metadata": {},
   "source": [
    "## ETC AD NASEUM\n",
    "\n",
    "Some more words and stuff.  Remember notebooks work best if you interleave the code that generates a result with properly annotate figures and text that puts these results into context."
   ]
  },
  {
   "cell_type": "code",
   "execution_count": null,
   "metadata": {},
   "outputs": [],
   "source": [
    "## YOUR CODE HERE\n",
    "## FEEL FREE TO ADD MULTIPLE CELLS PER SECTION"
   ]
  },
  {
   "cell_type": "markdown",
   "metadata": {},
   "source": [
    "# Ethics & Privacy"
   ]
  },
  {
   "cell_type": "markdown",
   "metadata": {},
   "source": [
    "Much of the data used in this project is sourced directly from the organizations and governments that we are specifically investigating. Because they are not produced by a third party investigation, this data could be skewed or altered in favor of the organization to make them look better, meaning we might not get the full picture of the organization/stadium’s economic impact. Since this is the best and most available source of information we have access to, we must proceed knowing that there could be bias in our report.\n",
    "\n",
    "Due to the fact that some cities are much larger than others in this project, some may have less of a chance of economic effects from the stadium itself. There would be a higher chance in the larger cities of other happenings and presences that would impact the economy in a fairly similar or larger amount. In an effort to curb these problems, we will attempt to use houses as close to the stadium as possible, due to their likelihood of being impacted the most.\n",
    "\n",
    "We will also ensure that only publicly available information will be used in this project, without peering into the private lives of the citizens of the surrounding area. Not doing so would be a violation of the privacy rights of these citizens, and unjustly provide private information."
   ]
  },
  {
   "cell_type": "markdown",
   "metadata": {},
   "source": [
    "# Discusison and Conclusion\n",
    "\n",
    "Wrap it all up here.  Somewhere between 3 and 10 paragraphs roughly.  A good time to refer back to your Background section and review how this work extended the previous stuff. \n",
    "\n",
    "\n",
    "# Team Contributions\n",
    "\n",
    "Speficy who did what.  This should be pretty granular, perhaps bullet points, no more than a few sentences per person."
   ]
  }
 ],
 "metadata": {
  "kernelspec": {
   "display_name": "Python 3 (ipykernel)",
   "language": "python",
   "name": "python3"
  },
  "language_info": {
   "codemirror_mode": {
    "name": "ipython",
    "version": 3
   },
   "file_extension": ".py",
   "mimetype": "text/x-python",
   "name": "python",
   "nbconvert_exporter": "python",
   "pygments_lexer": "ipython3",
   "version": "3.9.7"
  }
 },
 "nbformat": 4,
 "nbformat_minor": 2
}
